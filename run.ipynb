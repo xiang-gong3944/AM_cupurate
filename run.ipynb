{
 "cells": [
  {
   "cell_type": "markdown",
   "metadata": {},
   "source": [
    "# スピン伝導度の分布"
   ]
  },
  {
   "cell_type": "markdown",
   "metadata": {},
   "source": [
    "スピン伝導度がどこの波数のものが一番効くのかを\n",
    "\n",
    "- ホールドープ (5 %)\n",
    "- 電子ドープ (10 %)\n",
    "\n",
    "の時で調べた。\n",
    "すると KappaET2X のときとは違う分布が現れた。\n",
    "\n",
    "KappaET2X では正成分と負成分の分布が強磁性的? なフェルミ面のような形をしていて、\n",
    "二重の円のようになり、その結果打ち消しあわずにスピンホール伝導度が生き残っていた。\n",
    "\n",
    "しかし、CuO2 では d 波の符号のスピンホール伝導度が分布していて、\n",
    "その結果、正方向・負方向の成分が打ち消しあった結果消えてしまう。\n",
    "\n",
    "また直流成分があるのも気になる。\n",
    "その $ xx $ 方向と $yy$ 方向で似たような分布に見えるがよく見ると、違うのがわかる。\n",
    "といっても 90 度回転させると一致するため、スピン伝導度の値としては両者は同じものになっている。\n",
    "\n"
   ]
  },
  {
   "cell_type": "markdown",
   "metadata": {},
   "source": [
    "これはバンドのスピン分裂の大きさが微妙だからというわけではなさそうである。\n",
    "$T_{pd}$ 間のホッピングの距離依存性を本来のものと変えて実行してみるとスピン分裂は大きくなる。\n",
    "しかし、そういったときであってもスピン伝導度の分布を見ると d 波のような分布になり、打ち消しあって消えるのが確認できた。\n",
    "\n",
    "なので何か見落としている点はあるのかもしれない。"
   ]
  },
  {
   "cell_type": "markdown",
   "metadata": {},
   "source": [
    "# 結果"
   ]
  },
  {
   "cell_type": "code",
   "execution_count": 2,
   "metadata": {},
   "outputs": [],
   "source": [
    "%load_ext autoreload\n",
    "%autoreload 2"
   ]
  },
  {
   "cell_type": "code",
   "execution_count": 3,
   "metadata": {},
   "outputs": [],
   "source": [
    "import numpy as np\n",
    "import matplotlib.pyplot as plt\n",
    "import time\n",
    "import os\n",
    "\n",
    "from model.hubbard_model import HubbardModel\n",
    "from model import calc, plot\n",
    "from util import post"
   ]
  },
  {
   "cell_type": "markdown",
   "metadata": {},
   "source": [
    "# ホールドープ"
   ]
  },
  {
   "cell_type": "code",
   "execution_count": 40,
   "metadata": {},
   "outputs": [
    {
     "name": "stdout",
     "output_type": "stream",
     "text": [
      "SCF calculation start. N = 2.10, Ud = 8.00, err < 1.0e-06\n",
      "SCF loop converged.  N = 2.10, err < 1.0e-06, loop = 15, delta = 6.82e-01\n",
      "\n",
      "NSCF calculation start.\n",
      "NSCF calculation finished.\n",
      "\n"
     ]
    }
   ],
   "source": [
    "CuO2_p = HubbardModel(n_carrier=2.1, k_mesh=71, U=8, iteration=400, err=1e-6, fineness=5, a=0.45)"
   ]
  },
  {
   "cell_type": "code",
   "execution_count": 51,
   "metadata": {},
   "outputs": [
    {
     "name": "stdout",
     "output_type": "stream",
     "text": [
      "sent message. HTTP Response:200\n",
      "\n",
      "generated fermi surface\n",
      "\n",
      "sent message. HTTP Response:200\n",
      "\n",
      "generated spin current on fermi surface\n",
      "\n",
      "sent message. HTTP Response:200\n",
      "\n",
      "generated spin current on fermi surface\n",
      "\n",
      "sent message. HTTP Response:200\n",
      "\n",
      "generated electrical current on fermi surface\n",
      "\n",
      "sent message. HTTP Response:200\n",
      "\n",
      "generated electrical current on fermi surface\n",
      "\n",
      "spin conductivity calculation start.\n",
      "spin conductivity calculation finished\n",
      "ReChi = -8.56e+00, ImChi = -1.22e-15\n",
      "\n",
      "sent message. HTTP Response:200\n",
      "\n",
      "spin conductivity calculation start.\n",
      "spin conductivity calculation finished\n",
      "ReChi = 2.72e-11, ImChi = 6.58e-16\n",
      "\n",
      "sent message. HTTP Response:200\n",
      "\n",
      "spin conductivity calculation start.\n",
      "spin conductivity calculation finished\n",
      "ReChi = 2.78e-11, ImChi = 4.10e-16\n",
      "\n",
      "sent message. HTTP Response:200\n",
      "\n",
      "electrical conductivity calculation start.\n",
      "electrical conductivity calculation finished\n",
      "ReSigma = 4.32e+02, ImSigma = -8.89e-16\n",
      "\n",
      "sent message. HTTP Response:200\n",
      "\n",
      "electrical conductivity calculation start.\n",
      "electrical conductivity calculation finished\n",
      "ReSigma = 4.32e+02, ImSigma = -3.77e-15\n",
      "\n",
      "sent message. HTTP Response:200\n",
      "\n"
     ]
    }
   ],
   "source": [
    "option = {\n",
    "    \"folder_path\": \"./output/CuO2p/\",\n",
    "    \"is_plt_show\": False,\n",
    "    \"is_post\": True\n",
    "}\n",
    "model = CuO2_p\n",
    "\n",
    "plot.fermi_surface(model, **option)\n",
    "\n",
    "plot.spin_current(model, \"x\", **option)\n",
    "plot.spin_current(model, \"y\", **option)\n",
    "plot.electrical_current(model, \"x\", **option)\n",
    "plot.electrical_current(model, \"y\", **option)\n",
    "\n",
    "calc.spin_conductivity(model, \"x\", \"y\")\n",
    "plot.spin_conductivity(model,\"x\", \"y\", **option)\n",
    "\n",
    "calc.spin_conductivity(model, \"x\", \"x\")\n",
    "plot.spin_conductivity(model,\"x\", \"x\", **option)\n",
    "\n",
    "calc.spin_conductivity(model, \"y\", \"y\")\n",
    "plot.spin_conductivity(model,\"y\", \"y\", **option)\n",
    "\n",
    "calc.electrical_conductivity(model, \"x\", \"x\")\n",
    "plot.electrical_conductivity(model,\"x\", \"x\", **option)\n",
    "\n",
    "calc.electrical_conductivity(model, \"y\", \"y\")\n",
    "plot.electrical_conductivity(model,\"y\", \"y\", **option)"
   ]
  },
  {
   "cell_type": "markdown",
   "metadata": {},
   "source": [
    "# 電子ドープ"
   ]
  },
  {
   "cell_type": "code",
   "execution_count": 52,
   "metadata": {},
   "outputs": [
    {
     "name": "stdout",
     "output_type": "stream",
     "text": [
      "SCF calculation start. N = 1.80, Ud = 8.00, err < 1.0e-06\n",
      "SCF loop converged.  N = 1.80, err < 1.0e-06, loop = 15, delta = 5.85e-01\n",
      "\n",
      "NSCF calculation start.\n",
      "NSCF calculation finished.\n",
      "\n"
     ]
    }
   ],
   "source": [
    "CuO2_e = HubbardModel(n_carrier=1.8, k_mesh=71, U=8, iteration=400, err=1e-6, fineness=5, a=0.45)"
   ]
  },
  {
   "cell_type": "code",
   "execution_count": 53,
   "metadata": {},
   "outputs": [
    {
     "name": "stdout",
     "output_type": "stream",
     "text": [
      "sent message. HTTP Response:200\n",
      "\n",
      "generated fermi surface\n",
      "\n",
      "sent message. HTTP Response:200\n",
      "\n",
      "generated spin current on fermi surface\n",
      "\n",
      "sent message. HTTP Response:200\n",
      "\n",
      "generated spin current on fermi surface\n",
      "\n",
      "sent message. HTTP Response:200\n",
      "\n",
      "generated electrical current on fermi surface\n",
      "\n",
      "sent message. HTTP Response:200\n",
      "\n",
      "generated electrical current on fermi surface\n",
      "\n",
      "spin conductivity calculation start.\n",
      "spin conductivity calculation finished\n",
      "ReChi = 2.60e+00, ImChi = 6.90e-16\n",
      "\n",
      "sent message. HTTP Response:200\n",
      "\n",
      "spin conductivity calculation start.\n",
      "spin conductivity calculation finished\n",
      "ReChi = -5.90e-12, ImChi = -3.99e-16\n",
      "\n",
      "sent message. HTTP Response:200\n",
      "\n",
      "spin conductivity calculation start.\n",
      "spin conductivity calculation finished\n",
      "ReChi = -1.19e-11, ImChi = -5.42e-16\n",
      "\n",
      "sent message. HTTP Response:200\n",
      "\n",
      "electrical conductivity calculation start.\n",
      "electrical conductivity calculation finished\n",
      "ReSigma = 3.36e+02, ImSigma = 9.32e-16\n",
      "\n",
      "sent message. HTTP Response:200\n",
      "\n",
      "electrical conductivity calculation start.\n",
      "electrical conductivity calculation finished\n",
      "ReSigma = 3.36e+02, ImSigma = 2.05e-15\n",
      "\n",
      "sent message. HTTP Response:200\n",
      "\n"
     ]
    }
   ],
   "source": [
    "option = {\n",
    "    \"folder_path\": \"./output/CuO2e/\",\n",
    "    \"is_plt_show\": False,\n",
    "    \"is_post\": True\n",
    "}\n",
    "model = CuO2_e\n",
    "\n",
    "plot.fermi_surface(model, **option)\n",
    "\n",
    "plot.spin_current(model, \"x\", **option)\n",
    "plot.spin_current(model, \"y\", **option)\n",
    "plot.electrical_current(model, \"x\", **option)\n",
    "plot.electrical_current(model, \"y\", **option)\n",
    "\n",
    "calc.spin_conductivity(model, \"x\", \"y\")\n",
    "plot.spin_conductivity(model,\"x\", \"y\", **option)\n",
    "\n",
    "calc.spin_conductivity(model, \"x\", \"x\")\n",
    "plot.spin_conductivity(model,\"x\", \"x\", **option)\n",
    "\n",
    "calc.spin_conductivity(model, \"y\", \"y\")\n",
    "plot.spin_conductivity(model,\"y\", \"y\", **option)\n",
    "\n",
    "calc.electrical_conductivity(model, \"x\", \"x\")\n",
    "plot.electrical_conductivity(model,\"x\", \"x\", **option)\n",
    "\n",
    "calc.electrical_conductivity(model, \"y\", \"y\")\n",
    "plot.electrical_conductivity(model,\"y\", \"y\", **option)"
   ]
  }
 ],
 "metadata": {
  "kernelspec": {
   "display_name": "Python 3",
   "language": "python",
   "name": "python3"
  },
  "language_info": {
   "codemirror_mode": {
    "name": "ipython",
    "version": 3
   },
   "file_extension": ".py",
   "mimetype": "text/x-python",
   "name": "python",
   "nbconvert_exporter": "python",
   "pygments_lexer": "ipython3",
   "version": "3.11.9"
  }
 },
 "nbformat": 4,
 "nbformat_minor": 2
}
