{
 "cells": [
  {
   "cell_type": "markdown",
   "metadata": {},
   "source": [
    "# 条件"
   ]
  },
  {
   "cell_type": "markdown",
   "metadata": {},
   "source": [
    "ここに実行した内容をまとめる"
   ]
  },
  {
   "cell_type": "code",
   "execution_count": 1,
   "metadata": {},
   "outputs": [],
   "source": [
    "%load_ext autoreload\n",
    "%autoreload 2"
   ]
  },
  {
   "cell_type": "code",
   "execution_count": 2,
   "metadata": {},
   "outputs": [],
   "source": [
    "import numpy as np\n",
    "import matplotlib.pyplot as plt\n",
    "import time\n",
    "import os\n",
    "\n",
    "from model.hubbard_model import HubbardModel\n",
    "from model import calc, plot\n",
    "from util import post"
   ]
  },
  {
   "cell_type": "code",
   "execution_count": null,
   "metadata": {},
   "outputs": [],
   "source": [
    "Uds = np.linspace(0, 12, 61)\n",
    "chis = np.array([])\n",
    "\n",
    "folder = './2025-01-12/'\n",
    "\n",
    "for Ud in Uds:\n",
    "    CuO2 = HubbardModel(Np=2.1, a = 0.45, k_mesh=75, U=Ud, iteration=400, err=1e-6, fineness=5)\n",
    "    chi = calc.spin_conductivity(CuO2)\n",
    "    chis = np.append(chis, chi)\n",
    "    plot.fermi_surface(CuO2, folder_path=folder, is_plt_show=False)\n",
    "    plot.band(CuO2, folder_path=folder, is_plt_show=False)\n",
    "\n",
    "plt.plot(Uds, np.real(chis))\n",
    "plt.show()"
   ]
  }
 ],
 "metadata": {
  "kernelspec": {
   "display_name": "py3-11-9",
   "language": "python",
   "name": "python3"
  },
  "language_info": {
   "codemirror_mode": {
    "name": "ipython",
    "version": 3
   },
   "file_extension": ".py",
   "mimetype": "text/x-python",
   "name": "python",
   "nbconvert_exporter": "python",
   "pygments_lexer": "ipython3",
   "version": "3.11.10"
  }
 },
 "nbformat": 4,
 "nbformat_minor": 2
}
